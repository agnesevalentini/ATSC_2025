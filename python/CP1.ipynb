{
  "nbformat": 4,
  "nbformat_minor": 0,
  "metadata": {
    "colab": {
      "provenance": [],
      "include_colab_link": true
    },
    "kernelspec": {
      "name": "python3",
      "display_name": "Python 3"
    },
    "language_info": {
      "name": "python"
    }
  },
  "cells": [
    {
      "cell_type": "markdown",
      "metadata": {
        "id": "view-in-github",
        "colab_type": "text"
      },
      "source": [
        "<a href=\"https://colab.research.google.com/github/agnesevalentini/ATSC_2025/blob/main/python/CP1.ipynb\" target=\"_parent\"><img src=\"https://colab.research.google.com/assets/colab-badge.svg\" alt=\"Open In Colab\"/></a>"
      ]
    },
    {
      "cell_type": "markdown",
      "source": [
        "# Introduction"
      ],
      "metadata": {
        "id": "mBbJ3xoVKHvB"
      }
    },
    {
      "cell_type": "markdown",
      "source": [
        "Good free book on Scientific Computing with Python:\n",
        "\n",
        "https://link.springer.com/book/10.1007/978-3-030-50356-7\n",
        "\n"
      ],
      "metadata": {
        "id": "akBplfCp9x2y"
      }
    },
    {
      "cell_type": "markdown",
      "source": [
        "# Python for Scientific Computing: quick recap"
      ],
      "metadata": {
        "id": "BayxWMT7KA9R"
      }
    },
    {
      "cell_type": "markdown",
      "source": [
        "**Why Python?**\n",
        "\n",
        "    Python is a modern, general-purpose, object-oriented, high-level programming language with huge community of users\n",
        "\n",
        "* No license costs. Immediately available (no installation required) from cloud computing platforms, eg. Google [Colab](https://colab.research.google.com)\n",
        "  * You'll need a Google account to access Google colab\n",
        "\n",
        "* Extensive ecosystem of scientific libraries (modules):\n",
        "  * [numpy](https://www.numpy.org) - Numerical Python\n",
        "  * [scipy](https://www.scipy.org) -  Scientific Python\n",
        "  * [matplotlib](https://www.matplotlib.org) - graphics library\n",
        "  * [petsc4py](https://gitlab.com/petsc/petsc) & [slepc4py](https://gitlab.com/slepc/slepc) - vast range of sequential or parallel linear or nonlinear solvers, time stepping, optimization, and eigensolvers\n",
        "  * [FEniCS](https://www.fenicsproject.org/) & [Firedrake](https://www.firedrakeproject.org) - finite element method (FEM) platforms."
      ],
      "metadata": {
        "id": "CCo_kCv8KPVo"
      }
    },
    {
      "cell_type": "markdown",
      "source": [
        "You can get this and anyu of the subsequent colab notebooks by opening the  corresponding file within github and then clicking \"open in Colab\"\n",
        "\n"
      ],
      "metadata": {
        "id": "k6JAL9FReFtM"
      }
    },
    {
      "cell_type": "markdown",
      "source": [
        "**Modules**"
      ],
      "metadata": {
        "id": "y_jfqlpVKV6F"
      }
    },
    {
      "cell_type": "code",
      "source": [
        "import math\n",
        "\n",
        "x = math.cos(math.pi/2)\n",
        "type(x)\n",
        "\n",
        "x = 1\n",
        "print(type(x))\n"
      ],
      "metadata": {
        "id": "u4mqQfc1KUkG",
        "colab": {
          "base_uri": "https://localhost:8080/"
        },
        "outputId": "60e1473b-dbbe-4b3f-a529-682d35865dab"
      },
      "execution_count": null,
      "outputs": [
        {
          "output_type": "stream",
          "name": "stdout",
          "text": [
            "<class 'int'>\n"
          ]
        }
      ]
    },
    {
      "cell_type": "markdown",
      "source": [
        "Import just what you need..."
      ],
      "metadata": {
        "id": "opjg3ti-C5_j"
      }
    },
    {
      "cell_type": "code",
      "source": [
        "from math import sin, pi"
      ],
      "metadata": {
        "id": "zpxfr_JgJ4iE"
      },
      "execution_count": null,
      "outputs": []
    },
    {
      "cell_type": "markdown",
      "source": [
        "**Variables**\n",
        "Convention: variable names start with a lower-case letter (Class names start with a capital letter)."
      ],
      "metadata": {
        "id": "4lHhLaXVj-Fa"
      }
    },
    {
      "cell_type": "code",
      "source": [],
      "metadata": {
        "id": "UNgwfmVE6HU7"
      },
      "execution_count": null,
      "outputs": []
    },
    {
      "cell_type": "markdown",
      "source": [
        "**Operators**\n",
        "\n",
        "* Arithmetic operators:\n",
        "    `+`, `-`, `*`, `/`, `//` (integer division), `**` power\n",
        "\n",
        "* Boolean operators:\n",
        "    `and`, `not`, `or`\n",
        "\n",
        "* Comparison operators:\n",
        "    `>`, `<`, `>=` (greater or equal), `<=` (less or equal), `==` equal, `!=` not equal."
      ],
      "metadata": {
        "id": "T9r-DvZ0k9v6"
      }
    },
    {
      "cell_type": "code",
      "source": [
        "print(2**3)"
      ],
      "metadata": {
        "id": "jzUk7ffzlup2"
      },
      "execution_count": null,
      "outputs": []
    },
    {
      "cell_type": "code",
      "source": [
        "my_bool = True and False\n",
        "\n",
        "my_string = \"Can something be true and false at the same time???  \"\n",
        "\n",
        "print(my_string, my_bool)"
      ],
      "metadata": {
        "id": "7bEDZla2ljTV",
        "colab": {
          "base_uri": "https://localhost:8080/"
        },
        "outputId": "9c015dbb-09e8-494d-d684-70c8184376fe"
      },
      "execution_count": null,
      "outputs": [
        {
          "output_type": "stream",
          "name": "stdout",
          "text": [
            "Can something be true and false at the same time???   False\n"
          ]
        }
      ]
    },
    {
      "cell_type": "code",
      "source": [
        "3 >= 2"
      ],
      "metadata": {
        "id": "NQN5JGSsl7Go",
        "colab": {
          "base_uri": "https://localhost:8080/"
        },
        "outputId": "c12e6940-80f4-409a-ff8b-90c18cef31d3"
      },
      "execution_count": null,
      "outputs": [
        {
          "output_type": "execute_result",
          "data": {
            "text/plain": [
              "True"
            ]
          },
          "metadata": {},
          "execution_count": 13
        }
      ]
    },
    {
      "cell_type": "code",
      "source": [
        "statement1 = (3 <= 2)\n",
        "statement2 = (0 == 1)\n",
        "\n",
        "# Note! Indentation based!\n",
        "if statement1:\n",
        "    print(\"statement1 is True\")\n",
        "elif statement2:\n",
        "    print(\"statement2 is True\")\n",
        "else:\n",
        "    print(\"statement1 and statement2 are both False\")"
      ],
      "metadata": {
        "id": "tFkg4BRvn39e",
        "colab": {
          "base_uri": "https://localhost:8080/"
        },
        "outputId": "3d50a8ca-43d5-4061-95a7-02fd61566e33"
      },
      "execution_count": null,
      "outputs": [
        {
          "output_type": "stream",
          "name": "stdout",
          "text": [
            "statement1 and statement2 are both False\n"
          ]
        }
      ]
    },
    {
      "cell_type": "markdown",
      "source": [
        "**Lists**"
      ],
      "metadata": {
        "id": "rx44oesGnETN"
      }
    },
    {
      "cell_type": "code",
      "source": [
        "my_list = [1, 2, 3, 4, 5, \"a\"]\n",
        "\n"
      ],
      "metadata": {
        "id": "OlgqomiqnY_V"
      },
      "execution_count": null,
      "outputs": []
    },
    {
      "cell_type": "code",
      "source": [
        "my_nested_list = [[1, 2], [3, 4, 5]]\n",
        "\n"
      ],
      "metadata": {
        "id": "CT5UursenDjg"
      },
      "execution_count": null,
      "outputs": []
    },
    {
      "cell_type": "markdown",
      "source": [
        "Turning lists into NumPy arrays"
      ],
      "metadata": {
        "id": "rINUzQH5a-Py"
      }
    },
    {
      "cell_type": "code",
      "source": [
        "import numpy as np # module for arrays\n",
        "\n",
        "my_list = [1, 2, 3, 4, 5]\n",
        "x = np.array(my_list)\n",
        "print(type(x))"
      ],
      "metadata": {
        "id": "eoQEoZzNbEod",
        "colab": {
          "base_uri": "https://localhost:8080/"
        },
        "outputId": "394c4a01-227e-4058-c8b7-959e426553c4"
      },
      "execution_count": null,
      "outputs": [
        {
          "output_type": "stream",
          "name": "stdout",
          "text": [
            "<class 'numpy.ndarray'>\n"
          ]
        }
      ]
    },
    {
      "cell_type": "markdown",
      "source": [
        "**\"for\" and and \"while\" loops**"
      ],
      "metadata": {
        "id": "5ztAn85ipDTZ"
      }
    },
    {
      "cell_type": "code",
      "source": [
        "for n in my_list:\n",
        "  print(n)"
      ],
      "metadata": {
        "id": "89w0KYuepKzb",
        "colab": {
          "base_uri": "https://localhost:8080/"
        },
        "outputId": "78a22e0a-17db-42bc-fd38-61185bffe8b0"
      },
      "execution_count": null,
      "outputs": [
        {
          "output_type": "stream",
          "name": "stdout",
          "text": [
            "1\n",
            "2\n",
            "3\n",
            "4\n",
            "5\n"
          ]
        }
      ]
    },
    {
      "cell_type": "code",
      "source": [
        "for n in range(4):\n",
        "  print(n) # in this case, the range starts from 0"
      ],
      "metadata": {
        "id": "R2q82MFAproh",
        "colab": {
          "base_uri": "https://localhost:8080/"
        },
        "outputId": "6731d891-51f1-42fe-c85e-1d70324d5bd5"
      },
      "execution_count": null,
      "outputs": [
        {
          "output_type": "stream",
          "name": "stdout",
          "text": [
            "0\n",
            "1\n",
            "2\n",
            "3\n"
          ]
        }
      ]
    },
    {
      "cell_type": "code",
      "source": [
        "i = 0\n",
        "while i < 3:\n",
        "    print(i)\n",
        "    i += 1\n",
        "\n",
        "print(\"is identical to\")\n",
        "\n",
        "v = [0, 1, 2, 3]\n",
        "i = 0\n",
        "while i<len(v)-1:\n",
        "  print(v[i])\n",
        "  i = i + 1"
      ],
      "metadata": {
        "id": "xWcashocqAoi",
        "colab": {
          "base_uri": "https://localhost:8080/"
        },
        "outputId": "04bf771f-5b08-4a02-a150-90b44b1553ba"
      },
      "execution_count": null,
      "outputs": [
        {
          "output_type": "stream",
          "name": "stdout",
          "text": [
            "0\n",
            "1\n",
            "2\n",
            "is identical to\n",
            "0\n",
            "1\n",
            "2\n"
          ]
        }
      ]
    },
    {
      "cell_type": "markdown",
      "source": [
        "**Functions**"
      ],
      "metadata": {
        "id": "-PneRHVGswD3"
      }
    },
    {
      "cell_type": "code",
      "source": [
        "def mult(f1,f2):\n",
        "  # returns product of arguments\n",
        "  return f1*f2\n",
        "\n",
        "print(mult(2,3))"
      ],
      "metadata": {
        "id": "h8gDzlAXsyP5"
      },
      "execution_count": null,
      "outputs": []
    },
    {
      "cell_type": "code",
      "source": [],
      "metadata": {
        "id": "iONh5nizuwgF"
      },
      "execution_count": null,
      "outputs": []
    },
    {
      "cell_type": "code",
      "source": [
        "def powers (x,p=2):\n",
        "  # returns given power\n",
        "  # default is p=2\n",
        "  return x**p\n",
        "\n",
        "print(powers(2))\n",
        "print(powers(2,3))"
      ],
      "metadata": {
        "id": "QFQb3CnyvOnR"
      },
      "execution_count": null,
      "outputs": []
    },
    {
      "cell_type": "markdown",
      "source": [
        "Function implementing:\n",
        "$$\n",
        "f(x)=\n",
        "\\left\\{\n",
        "\\begin{array}{l}\n",
        "0,\\quad x<0\\\\\n",
        "x,\\quad 0\\le x<1\\\\\n",
        "2-x,\\quad 1\\le x<2\\\\\n",
        "0,\\quad x\\ge 2\n",
        "\\end{array}\n",
        "\\right.\n",
        "$$"
      ],
      "metadata": {
        "id": "0aDBprm1W-_n"
      }
    },
    {
      "cell_type": "code",
      "source": [
        "def f(x):\n",
        "  if x < 0:\n",
        "    return 0\n",
        "  elif 0 <= x < 1:\n",
        "    return x\n",
        "  elif 1 <= x < 2:\n",
        "    return 2 - x\n",
        "  elif x >= 2:\n",
        "    return 0"
      ],
      "metadata": {
        "id": "u9VtP4fcW0IO"
      },
      "execution_count": null,
      "outputs": []
    },
    {
      "cell_type": "code",
      "source": [
        "f(3)"
      ],
      "metadata": {
        "id": "c6aFpMpEXgwV"
      },
      "execution_count": null,
      "outputs": []
    },
    {
      "cell_type": "markdown",
      "source": [
        "Lambda functions are one-line functions:"
      ],
      "metadata": {
        "id": "XA6nbJRZYOLY"
      }
    },
    {
      "cell_type": "code",
      "source": [
        "f = lambda x,y: x**2 + 3\n",
        "print(f(2,3))"
      ],
      "metadata": {
        "id": "lESnigQ0A_ut",
        "colab": {
          "base_uri": "https://localhost:8080/"
        },
        "outputId": "773c1922-e4a0-48ae-bf78-623ba5fc5de8"
      },
      "execution_count": null,
      "outputs": [
        {
          "output_type": "stream",
          "name": "stdout",
          "text": [
            "7\n"
          ]
        }
      ]
    },
    {
      "cell_type": "code",
      "source": [],
      "metadata": {
        "id": "q4GnRg2oYRor"
      },
      "execution_count": null,
      "outputs": []
    },
    {
      "cell_type": "markdown",
      "source": [
        "# Divided Difference formulas"
      ],
      "metadata": {
        "id": "FB4a1DObQMbu"
      }
    },
    {
      "cell_type": "markdown",
      "source": [
        "Implement basic divided difference formulas (see typed notes in github repo for more details ):\n",
        "\n",
        "$\\delta_{h,+} f (x)= \\frac{f(x+h)-f(x)}{h}  \\quad$    (FD)   first order\n",
        "\n",
        "$\\delta_{h,-} f (x)= \\frac{f(x)-f(x-h)}{h}  \\quad$    (BD)    first order\n",
        "\n",
        "$\\delta_{h} f (x)= \\frac{f(x+h/2)-f(x-h/2)}{h}  \\quad$    (CD)    second order"
      ],
      "metadata": {
        "id": "bIJ5aiUXQUCw"
      }
    },
    {
      "cell_type": "code",
      "source": [
        "import matplotlib\n",
        "import numpy as np\n",
        "#pylap inline\n",
        "import sympy as sym # used for symbolic calculations"
      ],
      "metadata": {
        "id": "Zg8AZ_0fQYfj"
      },
      "execution_count": 1,
      "outputs": []
    },
    {
      "cell_type": "code",
      "source": [
        "# let's look at the formula for the backward difference (BD)\n",
        "def backward_difference(x, h, f):\n",
        "  return (f(x) - f(x-h))/h"
      ],
      "metadata": {
        "id": "iapXY_9NTPuV"
      },
      "execution_count": 2,
      "outputs": []
    },
    {
      "cell_type": "code",
      "source": [
        "# let's define the symbolic function that we want to differentiate\n",
        "t = sym.var('t')\n",
        "f_sym = (t**2)/2\n",
        "f_dsym = f_sym.diff(t,1) # first derivative with respect to t\n",
        "\n",
        "f = sym.lambdify(t, f_sym)  # this will write the function f = lamda t ...\n",
        "f_d = sym.lambdify(t, f_dsym)\n",
        "\n",
        "#x = 0.5\n",
        "# print(f_d(x))\n",
        "\n",
        "#f_sym # just write it in this way to get the latex output\n",
        "#f_dsym"
      ],
      "metadata": {
        "id": "C101-BUHTkS5"
      },
      "execution_count": 3,
      "outputs": []
    },
    {
      "cell_type": "code",
      "source": [
        "x = 0.5\n",
        "h = 0.00001\n",
        "\n",
        "print(backward_difference(x, h, f))"
      ],
      "metadata": {
        "id": "CpVKf6jwUPYF",
        "colab": {
          "base_uri": "https://localhost:8080/"
        },
        "outputId": "b7c10990-c255-4651-df71-e4352ba8bb83"
      },
      "execution_count": 4,
      "outputs": [
        {
          "output_type": "stream",
          "name": "stdout",
          "text": [
            "0.4999950000000863\n"
          ]
        }
      ]
    },
    {
      "cell_type": "markdown",
      "source": [
        "Check rate of convergence"
      ],
      "metadata": {
        "id": "pha5coziRgwq"
      }
    },
    {
      "cell_type": "code",
      "source": [
        "# approximanting in one point the derivative, what happens if I decrease h\n",
        "x = 0.5\n",
        "no_experiments = 8 # number of experiments\n",
        "error = np.zeros(no_experiments)\n",
        "\n",
        "for i in range(no_experiments):\n",
        "  h = 1/(2**(i+1))\n",
        "  bd = backward_difference(x, h, f)\n",
        "  error[i] = abs(bd - f_d(x))\n",
        "\n",
        "#print(error)\n",
        "print(np.log(error[1:no_experiments] / error[0:no_experiments-1]) / np.log(2))"
      ],
      "metadata": {
        "id": "9xlANFxQRh4i",
        "colab": {
          "base_uri": "https://localhost:8080/"
        },
        "outputId": "4586a86c-ab86-4401-8e9a-3f53749543a1"
      },
      "execution_count": 5,
      "outputs": [
        {
          "output_type": "stream",
          "name": "stdout",
          "text": [
            "[-1. -1. -1. -1. -1. -1. -1.]\n"
          ]
        }
      ]
    },
    {
      "cell_type": "code",
      "source": [
        "# same as above but with matrices\n",
        "a = 0\n",
        "b = 1\n",
        "n = 20\n",
        "h = (b-a)/n\n",
        "x = np.linspace(a,b,n+1)\n",
        "\n",
        "print(x)\n"
      ],
      "metadata": {
        "id": "hjbQKQb3Rif4",
        "colab": {
          "base_uri": "https://localhost:8080/"
        },
        "outputId": "aad8b6bf-3baa-40b7-84e4-a32cead1b5ba"
      },
      "execution_count": 6,
      "outputs": [
        {
          "output_type": "stream",
          "name": "stdout",
          "text": [
            "[0.   0.05 0.1  0.15 0.2  0.25 0.3  0.35 0.4  0.45 0.5  0.55 0.6  0.65\n",
            " 0.7  0.75 0.8  0.85 0.9  0.95 1.  ]\n"
          ]
        }
      ]
    },
    {
      "cell_type": "markdown",
      "source": [
        "Let us now fix a grid and compute the FD in matrix form"
      ],
      "metadata": {
        "id": "nHTvDZoVU8Fm"
      }
    },
    {
      "cell_type": "code",
      "source": [
        "# backward difference matrix\n",
        "d = np.eye((n+1)) # square grid of n+1 points\n",
        "for i in range(n):\n",
        "  d[i+1,i] = -1\n",
        "\n",
        "d = d / h\n",
        "print(d)"
      ],
      "metadata": {
        "id": "nNphS0QbU6Pg",
        "colab": {
          "base_uri": "https://localhost:8080/"
        },
        "outputId": "6efb7553-81c9-4630-fb97-611ea11053db"
      },
      "execution_count": 7,
      "outputs": [
        {
          "output_type": "stream",
          "name": "stdout",
          "text": [
            "[[ 20.   0.   0.   0.   0.   0.   0.   0.   0.   0.   0.   0.   0.   0.\n",
            "    0.   0.   0.   0.   0.   0.   0.]\n",
            " [-20.  20.   0.   0.   0.   0.   0.   0.   0.   0.   0.   0.   0.   0.\n",
            "    0.   0.   0.   0.   0.   0.   0.]\n",
            " [  0. -20.  20.   0.   0.   0.   0.   0.   0.   0.   0.   0.   0.   0.\n",
            "    0.   0.   0.   0.   0.   0.   0.]\n",
            " [  0.   0. -20.  20.   0.   0.   0.   0.   0.   0.   0.   0.   0.   0.\n",
            "    0.   0.   0.   0.   0.   0.   0.]\n",
            " [  0.   0.   0. -20.  20.   0.   0.   0.   0.   0.   0.   0.   0.   0.\n",
            "    0.   0.   0.   0.   0.   0.   0.]\n",
            " [  0.   0.   0.   0. -20.  20.   0.   0.   0.   0.   0.   0.   0.   0.\n",
            "    0.   0.   0.   0.   0.   0.   0.]\n",
            " [  0.   0.   0.   0.   0. -20.  20.   0.   0.   0.   0.   0.   0.   0.\n",
            "    0.   0.   0.   0.   0.   0.   0.]\n",
            " [  0.   0.   0.   0.   0.   0. -20.  20.   0.   0.   0.   0.   0.   0.\n",
            "    0.   0.   0.   0.   0.   0.   0.]\n",
            " [  0.   0.   0.   0.   0.   0.   0. -20.  20.   0.   0.   0.   0.   0.\n",
            "    0.   0.   0.   0.   0.   0.   0.]\n",
            " [  0.   0.   0.   0.   0.   0.   0.   0. -20.  20.   0.   0.   0.   0.\n",
            "    0.   0.   0.   0.   0.   0.   0.]\n",
            " [  0.   0.   0.   0.   0.   0.   0.   0.   0. -20.  20.   0.   0.   0.\n",
            "    0.   0.   0.   0.   0.   0.   0.]\n",
            " [  0.   0.   0.   0.   0.   0.   0.   0.   0.   0. -20.  20.   0.   0.\n",
            "    0.   0.   0.   0.   0.   0.   0.]\n",
            " [  0.   0.   0.   0.   0.   0.   0.   0.   0.   0.   0. -20.  20.   0.\n",
            "    0.   0.   0.   0.   0.   0.   0.]\n",
            " [  0.   0.   0.   0.   0.   0.   0.   0.   0.   0.   0.   0. -20.  20.\n",
            "    0.   0.   0.   0.   0.   0.   0.]\n",
            " [  0.   0.   0.   0.   0.   0.   0.   0.   0.   0.   0.   0.   0. -20.\n",
            "   20.   0.   0.   0.   0.   0.   0.]\n",
            " [  0.   0.   0.   0.   0.   0.   0.   0.   0.   0.   0.   0.   0.   0.\n",
            "  -20.  20.   0.   0.   0.   0.   0.]\n",
            " [  0.   0.   0.   0.   0.   0.   0.   0.   0.   0.   0.   0.   0.   0.\n",
            "    0. -20.  20.   0.   0.   0.   0.]\n",
            " [  0.   0.   0.   0.   0.   0.   0.   0.   0.   0.   0.   0.   0.   0.\n",
            "    0.   0. -20.  20.   0.   0.   0.]\n",
            " [  0.   0.   0.   0.   0.   0.   0.   0.   0.   0.   0.   0.   0.   0.\n",
            "    0.   0.   0. -20.  20.   0.   0.]\n",
            " [  0.   0.   0.   0.   0.   0.   0.   0.   0.   0.   0.   0.   0.   0.\n",
            "    0.   0.   0.   0. -20.  20.   0.]\n",
            " [  0.   0.   0.   0.   0.   0.   0.   0.   0.   0.   0.   0.   0.   0.\n",
            "    0.   0.   0.   0.   0. -20.  20.]]\n"
          ]
        }
      ]
    },
    {
      "cell_type": "code",
      "source": [
        "# we could also define it as\n",
        "def backward_difference_matrix(n:int, h:float):\n",
        "  A = np.eye((n+1))\n",
        "  A = A + np.eye((n+1), k = -1)\n",
        "  return A / h\n",
        "\n",
        "print(A)"
      ],
      "metadata": {
        "id": "EQzotvSOsSMC",
        "outputId": "ef28a52f-133f-410f-fa77-cda354fd7127",
        "colab": {
          "base_uri": "https://localhost:8080/",
          "height": 176
        }
      },
      "execution_count": 12,
      "outputs": [
        {
          "output_type": "error",
          "ename": "NameError",
          "evalue": "name 'A' is not defined",
          "traceback": [
            "\u001b[0;31m---------------------------------------------------------------------------\u001b[0m",
            "\u001b[0;31mNameError\u001b[0m                                 Traceback (most recent call last)",
            "\u001b[0;32m/tmp/ipython-input-2159207443.py\u001b[0m in \u001b[0;36m<cell line: 0>\u001b[0;34m()\u001b[0m\n\u001b[1;32m      5\u001b[0m   \u001b[0;32mreturn\u001b[0m \u001b[0mA\u001b[0m \u001b[0;34m/\u001b[0m \u001b[0mh\u001b[0m\u001b[0;34m\u001b[0m\u001b[0;34m\u001b[0m\u001b[0m\n\u001b[1;32m      6\u001b[0m \u001b[0;34m\u001b[0m\u001b[0m\n\u001b[0;32m----> 7\u001b[0;31m \u001b[0mprint\u001b[0m\u001b[0;34m(\u001b[0m\u001b[0mA\u001b[0m\u001b[0;34m)\u001b[0m\u001b[0;34m\u001b[0m\u001b[0;34m\u001b[0m\u001b[0m\n\u001b[0m",
            "\u001b[0;31mNameError\u001b[0m: name 'A' is not defined"
          ]
        }
      ]
    },
    {
      "cell_type": "code",
      "source": [
        "u = f(x)\n",
        "ud = np.dot(d,u)[1:n]\n",
        "print(ud)\n",
        "print(f_d(x))"
      ],
      "metadata": {
        "id": "CqxUkXikVmMv",
        "colab": {
          "base_uri": "https://localhost:8080/"
        },
        "outputId": "559537c6-738a-42c1-ae8c-9b0bebe0a1f3"
      },
      "execution_count": 9,
      "outputs": [
        {
          "output_type": "stream",
          "name": "stdout",
          "text": [
            "[0.025 0.075 0.125 0.175 0.225 0.275 0.325 0.375 0.425 0.475 0.525 0.575\n",
            " 0.625 0.675 0.725 0.775 0.825 0.875 0.925]\n",
            "[0.   0.05 0.1  0.15 0.2  0.25 0.3  0.35 0.4  0.45 0.5  0.55 0.6  0.65\n",
            " 0.7  0.75 0.8  0.85 0.9  0.95 1.  ]\n"
          ]
        }
      ]
    },
    {
      "cell_type": "code",
      "source": [],
      "metadata": {
        "id": "zAdWMCDFXgGx"
      },
      "execution_count": null,
      "outputs": []
    },
    {
      "cell_type": "code",
      "source": [],
      "metadata": {
        "id": "ZbccY6SCYA7Y"
      },
      "execution_count": null,
      "outputs": []
    },
    {
      "cell_type": "markdown",
      "source": [
        "Let's check convergence!"
      ],
      "metadata": {
        "id": "0_6uGXlKYWut"
      }
    },
    {
      "cell_type": "code",
      "source": [
        "t = sym.var('t')\n",
        "my_f = sym.sin(t)\n",
        "fsym = sym.lambdify(t, my_f)\n",
        "fsym_x = sym.lambdify(t, my_f.diff(t,1))"
      ],
      "metadata": {
        "id": "nntsQJ1iYWYk"
      },
      "execution_count": null,
      "outputs": []
    },
    {
      "cell_type": "markdown",
      "source": [
        "Print error"
      ],
      "metadata": {
        "id": "D-1XrpvSDcbM"
      }
    },
    {
      "cell_type": "code",
      "source": [],
      "metadata": {
        "id": "XC5lNADiaqfj"
      },
      "execution_count": null,
      "outputs": []
    },
    {
      "cell_type": "code",
      "source": [],
      "metadata": {
        "id": "3HRLNF-8s2Mb"
      },
      "execution_count": 9,
      "outputs": []
    },
    {
      "cell_type": "code",
      "source": [
        "import matplotlib\n",
        "\n",
        "matplotlib.pyplot.loglog(nn,error)\n",
        "\n",
        "matplotlib.pyplot.loglog(nn,nn**(-1))"
      ],
      "metadata": {
        "id": "3B-ADTlbax1O"
      },
      "execution_count": null,
      "outputs": []
    },
    {
      "cell_type": "markdown",
      "source": [
        "**Exercise 1** Implement the FD and CD formulas in matrix form as done for the FD forumla. Display in the same plot the error obtained with all three formulas to verify the theoretical order of convergence."
      ],
      "metadata": {
        "id": "JDLHaPvl9-0k"
      }
    },
    {
      "cell_type": "markdown",
      "source": [
        "**Exercise 2** Look up in Chapter 3 of the typed lecture notes NSPDE.pdf the one-sided second order formulas for the approximation of first derivatives. Implement these formulas. Compare these formulas with the CD formula by plotting errors as before in a single loglog plot. Comment your results."
      ],
      "metadata": {
        "id": "vAuJ4Foz_m2D"
      }
    },
    {
      "cell_type": "markdown",
      "source": [
        "**Exercise 3** Repeat Exercise 2 this time considering the centred and one sided formulas for the approximation of the second derivative also found in the lecture notes."
      ],
      "metadata": {
        "id": "6jeKUl-b_oTw"
      }
    }
  ]
}