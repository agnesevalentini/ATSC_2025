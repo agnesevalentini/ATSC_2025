{
 "cells": [
  {
   "cell_type": "markdown",
   "metadata": {
    "colab_type": "text",
    "id": "view-in-github"
   },
   "source": [
    "<a href=\"https://colab.research.google.com/github/andreacangiani/NMPDE2025/blob/main/python/CP1.ipynb\" target=\"_parent\"><img src=\"https://colab.research.google.com/assets/colab-badge.svg\" alt=\"Open In Colab\"/></a>"
   ]
  },
  {
   "cell_type": "markdown",
   "metadata": {
    "id": "mBbJ3xoVKHvB"
   },
   "source": [
    "# Introduction"
   ]
  },
  {
   "cell_type": "markdown",
   "metadata": {
    "id": "akBplfCp9x2y"
   },
   "source": [
    "Good free book on Scientific Computing with Python:\n",
    "\n",
    "https://link.springer.com/book/10.1007/978-3-030-50356-7\n",
    "\n"
   ]
  },
  {
   "cell_type": "markdown",
   "metadata": {
    "id": "BayxWMT7KA9R"
   },
   "source": [
    "# Python for Scientific Computing: quick recap"
   ]
  },
  {
   "cell_type": "markdown",
   "metadata": {
    "id": "CCo_kCv8KPVo"
   },
   "source": [
    "**Why Python?**\n",
    "\n",
    "    Python is a modern, general-purpose, object-oriented, high-level programming language with huge community of users\n",
    "\n",
    "* No license costs. Immediately available (no installation required) from cloud computing platforms, eg. Google [Colab](https://colab.research.google.com)\n",
    "  * You'll need a Google account to access Google colab\n",
    "\n",
    "* Extensive ecosystem of scientific libraries (modules):\n",
    "  * [numpy](https://www.numpy.org) - Numerical Python\n",
    "  * [scipy](https://www.scipy.org) -  Scientific Python\n",
    "  * [matplotlib](https://www.matplotlib.org) - graphics library\n",
    "  * [petsc4py](https://gitlab.com/petsc/petsc) & [slepc4py](https://gitlab.com/slepc/slepc) - vast range of sequential or parallel linear or nonlinear solvers, time stepping, optimization, and eigensolvers\n",
    "  * [FEniCS](https://www.fenicsproject.org/) & [Firedrake](https://www.firedrakeproject.org) - finite element method (FEM) platforms."
   ]
  },
  {
   "cell_type": "markdown",
   "metadata": {
    "id": "k6JAL9FReFtM"
   },
   "source": [
    "You can get this and anyu of the subsequent colab notebooks by opening the  corresponding file within github and then clicking \"open in Colab\"\n",
    "\n"
   ]
  },
  {
   "cell_type": "markdown",
   "metadata": {
    "id": "y_jfqlpVKV6F"
   },
   "source": [
    "**Modules**"
   ]
  },
  {
   "cell_type": "code",
   "execution_count": null,
   "metadata": {
    "id": "u4mqQfc1KUkG"
   },
   "outputs": [],
   "source": [
    "import math\n",
    "\n"
   ]
  },
  {
   "cell_type": "markdown",
   "metadata": {
    "id": "opjg3ti-C5_j"
   },
   "source": [
    "Import just what you need..."
   ]
  },
  {
   "cell_type": "code",
   "execution_count": null,
   "metadata": {
    "id": "zpxfr_JgJ4iE"
   },
   "outputs": [],
   "source": [
    "from math import sin, pi"
   ]
  },
  {
   "cell_type": "markdown",
   "metadata": {
    "id": "4lHhLaXVj-Fa"
   },
   "source": [
    "**Variables**\n",
    "Convention: variable names start with a lower-case letter (Class names start with a capital letter)."
   ]
  },
  {
   "cell_type": "code",
   "execution_count": null,
   "metadata": {
    "id": "UNgwfmVE6HU7"
   },
   "outputs": [],
   "source": []
  },
  {
   "cell_type": "markdown",
   "metadata": {
    "id": "T9r-DvZ0k9v6"
   },
   "source": [
    "**Operators**\n",
    "\n",
    "* Arithmetic operators:\n",
    "    `+`, `-`, `*`, `/`, `//` (integer division), `**` power\n",
    "\n",
    "* Boolean operators:\n",
    "    `and`, `not`, `or`\n",
    "\n",
    "* Comparison operators:\n",
    "    `>`, `<`, `>=` (greater or equal), `<=` (less or equal), `==` equal, `!=` not equal."
   ]
  },
  {
   "cell_type": "code",
   "execution_count": null,
   "metadata": {
    "id": "jzUk7ffzlup2"
   },
   "outputs": [],
   "source": [
    "print(2**3)"
   ]
  },
  {
   "cell_type": "code",
   "execution_count": null,
   "metadata": {
    "colab": {
     "base_uri": "https://localhost:8080/"
    },
    "id": "7bEDZla2ljTV",
    "outputId": "77dfdbd6-bb2b-47e8-d5ce-361463579de4"
   },
   "outputs": [
    {
     "name": "stdout",
     "output_type": "stream",
     "text": [
      "Can something be true and false at the same time???   False\n"
     ]
    }
   ],
   "source": [
    "my_bool = True and False\n",
    "\n",
    "my_string = \"Can something be true and false at the same time???  \"\n",
    "\n",
    "print(my_string, my_bool)"
   ]
  },
  {
   "cell_type": "code",
   "execution_count": null,
   "metadata": {
    "id": "NQN5JGSsl7Go"
   },
   "outputs": [],
   "source": [
    "3 >= 2"
   ]
  },
  {
   "cell_type": "code",
   "execution_count": null,
   "metadata": {
    "id": "tFkg4BRvn39e"
   },
   "outputs": [],
   "source": [
    "statement1 = (3 <= 2)\n",
    "statement2 = (0 == 1)\n",
    "\n",
    "# Note! Indentation based!\n",
    "if statement1:\n",
    "    print(\"statement1 is True\")\n",
    "elif statement2:\n",
    "    print(\"statement2 is True\")\n",
    "else:\n",
    "    print(\"statement1 and statement2 are both False\")"
   ]
  },
  {
   "cell_type": "markdown",
   "metadata": {
    "id": "rx44oesGnETN"
   },
   "source": [
    "**Lists**"
   ]
  },
  {
   "cell_type": "code",
   "execution_count": null,
   "metadata": {
    "id": "OlgqomiqnY_V"
   },
   "outputs": [],
   "source": [
    "my_list = [1, 2, 3, 4, 5, \"a\"]\n",
    "\n"
   ]
  },
  {
   "cell_type": "code",
   "execution_count": null,
   "metadata": {
    "id": "CT5UursenDjg"
   },
   "outputs": [],
   "source": [
    "my_nested_list = [[1, 2], [3, 4, 5]]\n",
    "\n"
   ]
  },
  {
   "cell_type": "markdown",
   "metadata": {
    "id": "rINUzQH5a-Py"
   },
   "source": [
    "Turning lists into NumPy arrays"
   ]
  },
  {
   "cell_type": "code",
   "execution_count": null,
   "metadata": {
    "id": "eoQEoZzNbEod"
   },
   "outputs": [],
   "source": [
    "import numpy as np # module for arrays"
   ]
  },
  {
   "cell_type": "markdown",
   "metadata": {
    "id": "5ztAn85ipDTZ"
   },
   "source": [
    "**\"for\" and and \"while\" loops**"
   ]
  },
  {
   "cell_type": "code",
   "execution_count": null,
   "metadata": {
    "id": "89w0KYuepKzb"
   },
   "outputs": [],
   "source": []
  },
  {
   "cell_type": "code",
   "execution_count": null,
   "metadata": {
    "id": "R2q82MFAproh"
   },
   "outputs": [],
   "source": []
  },
  {
   "cell_type": "code",
   "execution_count": null,
   "metadata": {
    "id": "xWcashocqAoi"
   },
   "outputs": [],
   "source": [
    "i = 0\n",
    "while i < 3:\n",
    "    print(i)\n",
    "    i += 1\n",
    "\n",
    "print(\"is identical to\")\n",
    "\n",
    "v = [0, 1, 2, 3]\n",
    "i = 0\n",
    "while i<len(v)-1:\n",
    "  print(v[i])\n",
    "  i = i + 1"
   ]
  },
  {
   "cell_type": "markdown",
   "metadata": {
    "id": "-PneRHVGswD3"
   },
   "source": [
    "**Functions**"
   ]
  },
  {
   "cell_type": "code",
   "execution_count": null,
   "metadata": {
    "id": "h8gDzlAXsyP5"
   },
   "outputs": [],
   "source": [
    "def mult(f1,f2):\n",
    "  # returns product of arguments\n",
    "  return f1*f2\n",
    "\n",
    "print(mult(2,3))"
   ]
  },
  {
   "cell_type": "code",
   "execution_count": null,
   "metadata": {
    "id": "iONh5nizuwgF"
   },
   "outputs": [],
   "source": []
  },
  {
   "cell_type": "code",
   "execution_count": null,
   "metadata": {
    "id": "QFQb3CnyvOnR"
   },
   "outputs": [],
   "source": [
    "def powers (x,p=2):\n",
    "  # returns given power\n",
    "  # default is p=2\n",
    "  return x**p\n",
    "\n",
    "print(powers(2))\n",
    "print(powers(2,3))"
   ]
  },
  {
   "cell_type": "markdown",
   "metadata": {
    "id": "0aDBprm1W-_n"
   },
   "source": [
    "Function implementing:\n",
    "$$\n",
    "f(x)=\n",
    "\\left\\{\n",
    "\\begin{array}{l}\n",
    "0,\\quad x<0\\\\\n",
    "x,\\quad 0\\le x<1\\\\\n",
    "2-x,\\quad 1\\le x<2\\\\\n",
    "0,\\quad x\\ge 2\n",
    "\\end{array}\n",
    "\\right.\n",
    "$$"
   ]
  },
  {
   "cell_type": "code",
   "execution_count": null,
   "metadata": {
    "id": "u9VtP4fcW0IO"
   },
   "outputs": [],
   "source": [
    "def f(x):\n",
    "  if x < 0:\n",
    "    return 0\n",
    "  elif 0 <= x < 1:\n",
    "    return x\n",
    "  elif 1 <= x < 2:\n",
    "    return 2 - x\n",
    "  elif x >= 2:\n",
    "    return 0"
   ]
  },
  {
   "cell_type": "code",
   "execution_count": null,
   "metadata": {
    "id": "c6aFpMpEXgwV"
   },
   "outputs": [],
   "source": [
    "f(3)"
   ]
  },
  {
   "cell_type": "markdown",
   "metadata": {
    "id": "XA6nbJRZYOLY"
   },
   "source": [
    "Lambda functions are one-line functions:"
   ]
  },
  {
   "cell_type": "code",
   "execution_count": null,
   "metadata": {
    "id": "lESnigQ0A_ut"
   },
   "outputs": [],
   "source": []
  },
  {
   "cell_type": "code",
   "execution_count": null,
   "metadata": {
    "id": "q4GnRg2oYRor"
   },
   "outputs": [],
   "source": []
  },
  {
   "cell_type": "markdown",
   "metadata": {
    "id": "FB4a1DObQMbu"
   },
   "source": [
    "# Divided Difference formulas"
   ]
  },
  {
   "cell_type": "markdown",
   "metadata": {
    "id": "bIJ5aiUXQUCw"
   },
   "source": [
    "Implement basic divided difference formulas (see typed notes in github repo for more details ):\n",
    "\n",
    "$\\delta_{h,+} f (x)= \\frac{f(x+h)-f(x)}{h}  \\quad$    (FD)\n",
    "\n",
    "$\\delta_{h,-} f (x)= \\frac{f(x)-f(x-h)}{h}  \\quad$    (BD)\n",
    "\n",
    "$\\delta_{h} f (x)= \\frac{f(x+h/2)-f(x-h/2)}{h}  \\quad$    (CD)"
   ]
  },
  {
   "cell_type": "code",
   "execution_count": null,
   "metadata": {
    "id": "Zg8AZ_0fQYfj"
   },
   "outputs": [],
   "source": [
    "import matplotlib\n",
    "#pylap inline\n",
    "import sympy as sym"
   ]
  },
  {
   "cell_type": "code",
   "execution_count": null,
   "metadata": {
    "id": "iapXY_9NTPuV"
   },
   "outputs": [],
   "source": []
  },
  {
   "cell_type": "code",
   "execution_count": null,
   "metadata": {
    "id": "C101-BUHTkS5"
   },
   "outputs": [],
   "source": []
  },
  {
   "cell_type": "code",
   "execution_count": null,
   "metadata": {
    "id": "CpVKf6jwUPYF"
   },
   "outputs": [],
   "source": []
  },
  {
   "cell_type": "markdown",
   "metadata": {
    "id": "pha5coziRgwq"
   },
   "source": [
    "Check rate of convergence"
   ]
  },
  {
   "cell_type": "code",
   "execution_count": null,
   "metadata": {
    "id": "9xlANFxQRh4i"
   },
   "outputs": [],
   "source": []
  },
  {
   "cell_type": "code",
   "execution_count": null,
   "metadata": {
    "id": "hjbQKQb3Rif4"
   },
   "outputs": [],
   "source": []
  },
  {
   "cell_type": "markdown",
   "metadata": {
    "id": "nHTvDZoVU8Fm"
   },
   "source": [
    "Let us now fix a grid and compute the FD in matrix form"
   ]
  },
  {
   "cell_type": "code",
   "execution_count": null,
   "metadata": {
    "id": "nNphS0QbU6Pg"
   },
   "outputs": [],
   "source": []
  },
  {
   "cell_type": "code",
   "execution_count": null,
   "metadata": {
    "id": "CqxUkXikVmMv"
   },
   "outputs": [],
   "source": []
  },
  {
   "cell_type": "code",
   "execution_count": null,
   "metadata": {
    "id": "OCgBlhH2W19J"
   },
   "outputs": [],
   "source": []
  },
  {
   "cell_type": "code",
   "execution_count": null,
   "metadata": {
    "id": "zAdWMCDFXgGx"
   },
   "outputs": [],
   "source": []
  },
  {
   "cell_type": "code",
   "execution_count": null,
   "metadata": {
    "id": "ZbccY6SCYA7Y"
   },
   "outputs": [],
   "source": []
  },
  {
   "cell_type": "markdown",
   "metadata": {
    "id": "0_6uGXlKYWut"
   },
   "source": [
    "Let's check convergence!"
   ]
  },
  {
   "cell_type": "code",
   "execution_count": null,
   "metadata": {
    "id": "nntsQJ1iYWYk"
   },
   "outputs": [],
   "source": [
    "t = sym.var('t')\n",
    "my_f = sym.sin(t)\n",
    "fsym = sym.lambdify(t, my_f)\n",
    "fsym_x = sym.lambdify(t, my_f.diff(t,1))"
   ]
  },
  {
   "cell_type": "markdown",
   "metadata": {
    "id": "D-1XrpvSDcbM"
   },
   "source": [
    "Print error"
   ]
  },
  {
   "cell_type": "code",
   "execution_count": null,
   "metadata": {
    "id": "XC5lNADiaqfj"
   },
   "outputs": [],
   "source": []
  },
  {
   "cell_type": "code",
   "execution_count": null,
   "metadata": {
    "id": "3B-ADTlbax1O"
   },
   "outputs": [],
   "source": [
    "import matplotlib\n",
    "\n",
    "matplotlib.pyplot.loglog(nn,error)\n",
    "\n",
    "matplotlib.pyplot.loglog(nn,nn**(-1))"
   ]
  },
  {
   "cell_type": "markdown",
   "metadata": {
    "id": "JDLHaPvl9-0k"
   },
   "source": [
    "**Exercise 1** Implement the BD and CD formulas in matrix form as done for the FD forumla. Display in the same plot the error obtained with all three formulas to verify the theoretical order of convergence."
   ]
  },
  {
   "cell_type": "markdown",
   "metadata": {
    "id": "vAuJ4Foz_m2D"
   },
   "source": [
    "**Exercise 2** Look up in Chapter 3 of the typed lecture notes NSPDE.pdf the one-sided second order formulas for the approximation of first derivatives. Implement these formulas. Compare these formulas with the CD formula by plotting errors as before in a single loglog plot. Comment your results."
   ]
  },
  {
   "cell_type": "markdown",
   "metadata": {
    "id": "6jeKUl-b_oTw"
   },
   "source": [
    "**Exercise 3** Repeat Exercise 2 this time considering the centred and one sided formulas for the approximation of the second derivative also found in the lecture notes."
   ]
  }
 ],
 "metadata": {
  "colab": {
   "include_colab_link": true,
   "provenance": []
  },
  "kernelspec": {
   "display_name": "Python 3 (ipykernel)",
   "language": "python",
   "name": "python3"
  },
  "language_info": {
   "codemirror_mode": {
    "name": "ipython",
    "version": 3
   },
   "file_extension": ".py",
   "mimetype": "text/x-python",
   "name": "python",
   "nbconvert_exporter": "python",
   "pygments_lexer": "ipython3",
   "version": "3.12.2"
  }
 },
 "nbformat": 4,
 "nbformat_minor": 4
}
